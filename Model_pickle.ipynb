{
 "cells": [
  {
   "cell_type": "code",
   "execution_count": 1,
   "metadata": {},
   "outputs": [],
   "source": [
    "from datetime import datetime\n",
    "import pandas as pd\n",
    "import pandas_datareader.data as web\n",
    "\n",
    "def getStock(Stock):\n",
    "    stock_df = web.DataReader(Stock, 'yahoo', start_time, now_time)\n",
    "    return stock_df\n",
    "if __name__ == '__main__':\n",
    "    now_time = datetime.now()\n",
    "    start_time = datetime(now_time.year - 8, now_time.month, now_time.day)\n",
    "    stock_df = getStock('TSLA')"
   ]
  },
  {
   "cell_type": "code",
   "execution_count": 2,
   "metadata": {},
   "outputs": [
    {
     "data": {
      "text/html": [
       "<div>\n",
       "<style scoped>\n",
       "    .dataframe tbody tr th:only-of-type {\n",
       "        vertical-align: middle;\n",
       "    }\n",
       "\n",
       "    .dataframe tbody tr th {\n",
       "        vertical-align: top;\n",
       "    }\n",
       "\n",
       "    .dataframe thead th {\n",
       "        text-align: right;\n",
       "    }\n",
       "</style>\n",
       "<table border=\"1\" class=\"dataframe\">\n",
       "  <thead>\n",
       "    <tr style=\"text-align: right;\">\n",
       "      <th></th>\n",
       "      <th>High</th>\n",
       "      <th>Low</th>\n",
       "      <th>Open</th>\n",
       "      <th>Close</th>\n",
       "      <th>Volume</th>\n",
       "      <th>Adj Close</th>\n",
       "    </tr>\n",
       "    <tr>\n",
       "      <th>Date</th>\n",
       "      <th></th>\n",
       "      <th></th>\n",
       "      <th></th>\n",
       "      <th></th>\n",
       "      <th></th>\n",
       "      <th></th>\n",
       "    </tr>\n",
       "  </thead>\n",
       "  <tbody>\n",
       "    <tr>\n",
       "      <th>2014-05-27</th>\n",
       "      <td>42.773998</td>\n",
       "      <td>41.540001</td>\n",
       "      <td>41.703999</td>\n",
       "      <td>42.312000</td>\n",
       "      <td>26705500.0</td>\n",
       "      <td>42.312000</td>\n",
       "    </tr>\n",
       "    <tr>\n",
       "      <th>2014-05-28</th>\n",
       "      <td>42.554001</td>\n",
       "      <td>41.051998</td>\n",
       "      <td>42.004002</td>\n",
       "      <td>42.048000</td>\n",
       "      <td>27475500.0</td>\n",
       "      <td>42.048000</td>\n",
       "    </tr>\n",
       "    <tr>\n",
       "      <th>2014-05-29</th>\n",
       "      <td>42.498001</td>\n",
       "      <td>41.543999</td>\n",
       "      <td>42.113998</td>\n",
       "      <td>42.048000</td>\n",
       "      <td>18462500.0</td>\n",
       "      <td>42.048000</td>\n",
       "    </tr>\n",
       "    <tr>\n",
       "      <th>2014-05-30</th>\n",
       "      <td>42.959999</td>\n",
       "      <td>41.403999</td>\n",
       "      <td>42.060001</td>\n",
       "      <td>41.554001</td>\n",
       "      <td>27905500.0</td>\n",
       "      <td>41.554001</td>\n",
       "    </tr>\n",
       "    <tr>\n",
       "      <th>2014-06-02</th>\n",
       "      <td>41.869999</td>\n",
       "      <td>40.334000</td>\n",
       "      <td>41.466000</td>\n",
       "      <td>40.939999</td>\n",
       "      <td>23340500.0</td>\n",
       "      <td>40.939999</td>\n",
       "    </tr>\n",
       "    <tr>\n",
       "      <th>...</th>\n",
       "      <td>...</td>\n",
       "      <td>...</td>\n",
       "      <td>...</td>\n",
       "      <td>...</td>\n",
       "      <td>...</td>\n",
       "      <td>...</td>\n",
       "    </tr>\n",
       "    <tr>\n",
       "      <th>2022-05-18</th>\n",
       "      <td>760.500000</td>\n",
       "      <td>700.809998</td>\n",
       "      <td>744.520020</td>\n",
       "      <td>709.809998</td>\n",
       "      <td>29270600.0</td>\n",
       "      <td>709.809998</td>\n",
       "    </tr>\n",
       "    <tr>\n",
       "      <th>2022-05-19</th>\n",
       "      <td>734.000000</td>\n",
       "      <td>694.109985</td>\n",
       "      <td>707.000000</td>\n",
       "      <td>709.419983</td>\n",
       "      <td>30098900.0</td>\n",
       "      <td>709.419983</td>\n",
       "    </tr>\n",
       "    <tr>\n",
       "      <th>2022-05-20</th>\n",
       "      <td>721.580017</td>\n",
       "      <td>633.000000</td>\n",
       "      <td>713.989990</td>\n",
       "      <td>663.900024</td>\n",
       "      <td>48190600.0</td>\n",
       "      <td>663.900024</td>\n",
       "    </tr>\n",
       "    <tr>\n",
       "      <th>2022-05-23</th>\n",
       "      <td>679.960022</td>\n",
       "      <td>638.059998</td>\n",
       "      <td>655.020020</td>\n",
       "      <td>674.900024</td>\n",
       "      <td>29634500.0</td>\n",
       "      <td>674.900024</td>\n",
       "    </tr>\n",
       "    <tr>\n",
       "      <th>2022-05-24</th>\n",
       "      <td>653.919983</td>\n",
       "      <td>620.570007</td>\n",
       "      <td>653.530029</td>\n",
       "      <td>628.159973</td>\n",
       "      <td>29498700.0</td>\n",
       "      <td>628.159973</td>\n",
       "    </tr>\n",
       "  </tbody>\n",
       "</table>\n",
       "<p>2015 rows × 6 columns</p>\n",
       "</div>"
      ],
      "text/plain": [
       "                  High         Low        Open       Close      Volume  \\\n",
       "Date                                                                     \n",
       "2014-05-27   42.773998   41.540001   41.703999   42.312000  26705500.0   \n",
       "2014-05-28   42.554001   41.051998   42.004002   42.048000  27475500.0   \n",
       "2014-05-29   42.498001   41.543999   42.113998   42.048000  18462500.0   \n",
       "2014-05-30   42.959999   41.403999   42.060001   41.554001  27905500.0   \n",
       "2014-06-02   41.869999   40.334000   41.466000   40.939999  23340500.0   \n",
       "...                ...         ...         ...         ...         ...   \n",
       "2022-05-18  760.500000  700.809998  744.520020  709.809998  29270600.0   \n",
       "2022-05-19  734.000000  694.109985  707.000000  709.419983  30098900.0   \n",
       "2022-05-20  721.580017  633.000000  713.989990  663.900024  48190600.0   \n",
       "2022-05-23  679.960022  638.059998  655.020020  674.900024  29634500.0   \n",
       "2022-05-24  653.919983  620.570007  653.530029  628.159973  29498700.0   \n",
       "\n",
       "             Adj Close  \n",
       "Date                    \n",
       "2014-05-27   42.312000  \n",
       "2014-05-28   42.048000  \n",
       "2014-05-29   42.048000  \n",
       "2014-05-30   41.554001  \n",
       "2014-06-02   40.939999  \n",
       "...                ...  \n",
       "2022-05-18  709.809998  \n",
       "2022-05-19  709.419983  \n",
       "2022-05-20  663.900024  \n",
       "2022-05-23  674.900024  \n",
       "2022-05-24  628.159973  \n",
       "\n",
       "[2015 rows x 6 columns]"
      ]
     },
     "execution_count": 2,
     "metadata": {},
     "output_type": "execute_result"
    }
   ],
   "source": [
    "stock_df.dropna()"
   ]
  },
  {
   "cell_type": "code",
   "execution_count": 3,
   "metadata": {},
   "outputs": [],
   "source": [
    "import numpy as np\n",
    "from scipy.stats import norm\n",
    "import scipy.optimize as opt\n",
    "import pandas as pd\n",
    "import datetime\n",
    "import time\n",
    "from arch import arch_model\n",
    "import matplotlib.pyplot as plt\n",
    "from numba import jit\n",
    "from sklearn.metrics import mean_squared_error as mse\n",
    "from sklearn.metrics import mean_absolute_error as mae\n",
    "import warnings\n",
    "#import plotly.express as px\n",
    "#import plotly.graph_objects as go\n",
    "import math\n",
    "from datetime import timedelta\n",
    "warnings.filterwarnings('ignore')"
   ]
  },
  {
   "cell_type": "code",
   "execution_count": 4,
   "metadata": {},
   "outputs": [
    {
     "data": {
      "text/html": [
       "<div>\n",
       "<style scoped>\n",
       "    .dataframe tbody tr th:only-of-type {\n",
       "        vertical-align: middle;\n",
       "    }\n",
       "\n",
       "    .dataframe tbody tr th {\n",
       "        vertical-align: top;\n",
       "    }\n",
       "\n",
       "    .dataframe thead th {\n",
       "        text-align: right;\n",
       "    }\n",
       "</style>\n",
       "<table border=\"1\" class=\"dataframe\">\n",
       "  <thead>\n",
       "    <tr style=\"text-align: right;\">\n",
       "      <th></th>\n",
       "      <th>High</th>\n",
       "      <th>Low</th>\n",
       "      <th>Open</th>\n",
       "      <th>Close</th>\n",
       "      <th>Volume</th>\n",
       "      <th>Adj Close</th>\n",
       "    </tr>\n",
       "    <tr>\n",
       "      <th>Date</th>\n",
       "      <th></th>\n",
       "      <th></th>\n",
       "      <th></th>\n",
       "      <th></th>\n",
       "      <th></th>\n",
       "      <th></th>\n",
       "    </tr>\n",
       "  </thead>\n",
       "  <tbody>\n",
       "    <tr>\n",
       "      <th>2022-05-24</th>\n",
       "      <td>653.919983</td>\n",
       "      <td>620.570007</td>\n",
       "      <td>653.530029</td>\n",
       "      <td>628.159973</td>\n",
       "      <td>29498700.0</td>\n",
       "      <td>628.159973</td>\n",
       "    </tr>\n",
       "    <tr>\n",
       "      <th>2022-05-23</th>\n",
       "      <td>679.960022</td>\n",
       "      <td>638.059998</td>\n",
       "      <td>655.020020</td>\n",
       "      <td>674.900024</td>\n",
       "      <td>29634500.0</td>\n",
       "      <td>674.900024</td>\n",
       "    </tr>\n",
       "    <tr>\n",
       "      <th>2022-05-20</th>\n",
       "      <td>721.580017</td>\n",
       "      <td>633.000000</td>\n",
       "      <td>713.989990</td>\n",
       "      <td>663.900024</td>\n",
       "      <td>48190600.0</td>\n",
       "      <td>663.900024</td>\n",
       "    </tr>\n",
       "    <tr>\n",
       "      <th>2022-05-19</th>\n",
       "      <td>734.000000</td>\n",
       "      <td>694.109985</td>\n",
       "      <td>707.000000</td>\n",
       "      <td>709.419983</td>\n",
       "      <td>30098900.0</td>\n",
       "      <td>709.419983</td>\n",
       "    </tr>\n",
       "    <tr>\n",
       "      <th>2022-05-18</th>\n",
       "      <td>760.500000</td>\n",
       "      <td>700.809998</td>\n",
       "      <td>744.520020</td>\n",
       "      <td>709.809998</td>\n",
       "      <td>29270600.0</td>\n",
       "      <td>709.809998</td>\n",
       "    </tr>\n",
       "    <tr>\n",
       "      <th>...</th>\n",
       "      <td>...</td>\n",
       "      <td>...</td>\n",
       "      <td>...</td>\n",
       "      <td>...</td>\n",
       "      <td>...</td>\n",
       "      <td>...</td>\n",
       "    </tr>\n",
       "    <tr>\n",
       "      <th>2014-06-02</th>\n",
       "      <td>41.869999</td>\n",
       "      <td>40.334000</td>\n",
       "      <td>41.466000</td>\n",
       "      <td>40.939999</td>\n",
       "      <td>23340500.0</td>\n",
       "      <td>40.939999</td>\n",
       "    </tr>\n",
       "    <tr>\n",
       "      <th>2014-05-30</th>\n",
       "      <td>42.959999</td>\n",
       "      <td>41.403999</td>\n",
       "      <td>42.060001</td>\n",
       "      <td>41.554001</td>\n",
       "      <td>27905500.0</td>\n",
       "      <td>41.554001</td>\n",
       "    </tr>\n",
       "    <tr>\n",
       "      <th>2014-05-29</th>\n",
       "      <td>42.498001</td>\n",
       "      <td>41.543999</td>\n",
       "      <td>42.113998</td>\n",
       "      <td>42.048000</td>\n",
       "      <td>18462500.0</td>\n",
       "      <td>42.048000</td>\n",
       "    </tr>\n",
       "    <tr>\n",
       "      <th>2014-05-28</th>\n",
       "      <td>42.554001</td>\n",
       "      <td>41.051998</td>\n",
       "      <td>42.004002</td>\n",
       "      <td>42.048000</td>\n",
       "      <td>27475500.0</td>\n",
       "      <td>42.048000</td>\n",
       "    </tr>\n",
       "    <tr>\n",
       "      <th>2014-05-27</th>\n",
       "      <td>42.773998</td>\n",
       "      <td>41.540001</td>\n",
       "      <td>41.703999</td>\n",
       "      <td>42.312000</td>\n",
       "      <td>26705500.0</td>\n",
       "      <td>42.312000</td>\n",
       "    </tr>\n",
       "  </tbody>\n",
       "</table>\n",
       "<p>2015 rows × 6 columns</p>\n",
       "</div>"
      ],
      "text/plain": [
       "                  High         Low        Open       Close      Volume  \\\n",
       "Date                                                                     \n",
       "2022-05-24  653.919983  620.570007  653.530029  628.159973  29498700.0   \n",
       "2022-05-23  679.960022  638.059998  655.020020  674.900024  29634500.0   \n",
       "2022-05-20  721.580017  633.000000  713.989990  663.900024  48190600.0   \n",
       "2022-05-19  734.000000  694.109985  707.000000  709.419983  30098900.0   \n",
       "2022-05-18  760.500000  700.809998  744.520020  709.809998  29270600.0   \n",
       "...                ...         ...         ...         ...         ...   \n",
       "2014-06-02   41.869999   40.334000   41.466000   40.939999  23340500.0   \n",
       "2014-05-30   42.959999   41.403999   42.060001   41.554001  27905500.0   \n",
       "2014-05-29   42.498001   41.543999   42.113998   42.048000  18462500.0   \n",
       "2014-05-28   42.554001   41.051998   42.004002   42.048000  27475500.0   \n",
       "2014-05-27   42.773998   41.540001   41.703999   42.312000  26705500.0   \n",
       "\n",
       "             Adj Close  \n",
       "Date                    \n",
       "2022-05-24  628.159973  \n",
       "2022-05-23  674.900024  \n",
       "2022-05-20  663.900024  \n",
       "2022-05-19  709.419983  \n",
       "2022-05-18  709.809998  \n",
       "...                ...  \n",
       "2014-06-02   40.939999  \n",
       "2014-05-30   41.554001  \n",
       "2014-05-29   42.048000  \n",
       "2014-05-28   42.048000  \n",
       "2014-05-27   42.312000  \n",
       "\n",
       "[2015 rows x 6 columns]"
      ]
     },
     "execution_count": 4,
     "metadata": {},
     "output_type": "execute_result"
    }
   ],
   "source": [
    "# stock_df.reset_index(inplace=True)\n",
    "stock_df.sort_values(by=['Date'],ascending=False)"
   ]
  },
  {
   "cell_type": "code",
   "execution_count": 5,
   "metadata": {},
   "outputs": [],
   "source": [
    "ret = 100 * (stock_df.pct_change()[1:]['Adj Close'])\n",
    "realized_vol = ret.rolling(5).std()"
   ]
  },
  {
   "cell_type": "code",
   "execution_count": 6,
   "metadata": {},
   "outputs": [
    {
     "data": {
      "text/plain": [
       "Date\n",
       "2014-05-28         NaN\n",
       "2014-05-29         NaN\n",
       "2014-05-30         NaN\n",
       "2014-06-02         NaN\n",
       "2014-06-03    0.701887\n",
       "                ...   \n",
       "2022-05-18    5.897573\n",
       "2022-05-19    5.898081\n",
       "2022-05-20    5.223651\n",
       "2022-05-23    5.201530\n",
       "2022-05-24    4.164848\n",
       "Name: Adj Close, Length: 2014, dtype: float64"
      ]
     },
     "execution_count": 6,
     "metadata": {},
     "output_type": "execute_result"
    }
   ],
   "source": [
    "realized_vol"
   ]
  },
  {
   "cell_type": "code",
   "execution_count": null,
   "metadata": {},
   "outputs": [],
   "source": [
    "newnames = {'Adj Close':'Realized Volatility'} # For Visualizations\n",
    "fig = px.line(realized_vol, template='plotly_white', labels={'value':'Volatility'}, title='Realized Volatility')\n",
    "fig.for_each_trace(lambda t: t.update(name = newnames[t.name],\n",
    "                                      legendgroup = newnames[t.name],\n",
    "                                      hovertemplate = t.hovertemplate.replace(t.name, newnames[t.name])\n",
    "                                     )\n",
    "                  )\n",
    "fig.update_layout(\n",
    "    title_x=0.5,\n",
    "    legend_title=\"Legend\"\n",
    ")\n",
    "fig.show()"
   ]
  },
  {
   "cell_type": "code",
   "execution_count": 7,
   "metadata": {},
   "outputs": [
    {
     "name": "stdout",
     "output_type": "stream",
     "text": [
      "Daily volatility:  3.47%\n",
      "Monthly volatility:  15.89%\n",
      "Annual volatility:  55.05%\n"
     ]
    }
   ],
   "source": [
    "\n",
    "period_volatility = {}\n",
    "daily_volatility = ret.std()\n",
    "print('Daily volatility: ', '{:.2f}%'.format(daily_volatility))\n",
    "period_volatility['Daily Volatility'] = round(daily_volatility, 2)\n",
    "\n",
    "monthly_volatility = math.sqrt(21) * daily_volatility\n",
    "print ('Monthly volatility: ', '{:.2f}%'.format(monthly_volatility))\n",
    "period_volatility['Monthly Volatility'] = round(monthly_volatility, 2)\n",
    "\n",
    "annual_volatility = math.sqrt(252) * daily_volatility\n",
    "print ('Annual volatility: ', '{:.2f}%'.format(annual_volatility ))\n",
    "period_volatility['Annual Volatility'] = round(annual_volatility, 2)"
   ]
  },
  {
   "cell_type": "code",
   "execution_count": 8,
   "metadata": {},
   "outputs": [],
   "source": [
    "n = 300\n",
    "split_date = ret.iloc[-n:].index"
   ]
  },
  {
   "cell_type": "code",
   "execution_count": null,
   "metadata": {},
   "outputs": [],
   "source": [
    "\n",
    "retv = ret.values\n",
    "\n",
    "fig = px.line(x=stock_df.index[1:], y=ret, template='plotly_white', labels={'x':'Date', 'y':'Daily Returns'}, \n",
    "              title='Volatility clustering')\n",
    "fig.update_layout(\n",
    "    title_x=0.5\n",
    ")\n",
    "fig.show()"
   ]
  },
  {
   "cell_type": "code",
   "execution_count": 14,
   "metadata": {},
   "outputs": [],
   "source": [
    "from sklearn.svm import SVR\n",
    "from scipy.stats import uniform as sp_rand\n",
    "from sklearn.model_selection import RandomizedSearchCV\n",
    "\n",
    "realized_vol = ret.rolling(5).std() \n",
    "realized_vol = pd.DataFrame(realized_vol)\n",
    "realized_vol.reset_index(drop=True, inplace=True)"
   ]
  },
  {
   "cell_type": "code",
   "execution_count": 15,
   "metadata": {},
   "outputs": [],
   "source": [
    "returns_svm = ret ** 2\n",
    "returns_svm = returns_svm.reset_index()\n",
    "del returns_svm['Date']"
   ]
  },
  {
   "cell_type": "code",
   "execution_count": 16,
   "metadata": {},
   "outputs": [],
   "source": [
    "\n",
    "X = pd.concat([realized_vol, returns_svm], axis=1, ignore_index=True)\n",
    "X = X[4:].copy()\n",
    "X = X.reset_index()\n",
    "X.drop('index', axis=1, inplace=True)"
   ]
  },
  {
   "cell_type": "code",
   "execution_count": 17,
   "metadata": {},
   "outputs": [],
   "source": [
    "realized_vol = realized_vol.dropna().reset_index()\n",
    "realized_vol.drop('index', axis=1, inplace=True)"
   ]
  },
  {
   "cell_type": "code",
   "execution_count": null,
   "metadata": {},
   "outputs": [],
   "source": [
    "svr_lin = SVR(kernel='linear') \n",
    "# svr_rbf = SVR(kernel='rbf')"
   ]
  },
  {
   "cell_type": "code",
   "execution_count": null,
   "metadata": {},
   "outputs": [],
   "source": [
    "para_grid = {'gamma': sp_rand(), 'C': sp_rand(), 'epsilon': sp_rand()}\n",
    "clf = RandomizedSearchCV(svr_lin, para_grid)\n",
    "clf.fit(X.iloc[:-n].values, realized_vol.iloc[1:-(n-1)].values.reshape(-1,))\n",
    "predict_svr_lin = clf.predict(X.iloc[-n:])\n",
    "\n",
    "predict_svr_lin = pd.DataFrame(predict_svr_lin)\n",
    "predict_svr_lin.index = ret.iloc[-n:].index\n",
    "\n",
    "rmse_svr = np.sqrt(mse(realized_vol.iloc[-n:] / 100, predict_svr_lin / 100))\n",
    "print('The RMSE value of SVR with Linear Kernel is {:.6f}'.format(rmse_svr))\n",
    "mse_svr = mse(realized_vol.iloc[-n:] / 100, predict_svr_lin / 100)\n",
    "print('The MSE value of SVR with Linear Kernel is {:.7f}'.format(mse_svr))\n",
    "\n",
    "mae_svr = mae(realized_vol.iloc[-n:] / 100, predict_svr_lin / 100)\n",
    "print('The MAE value of SVR with Linear Kernel is {:.6f}'.format(mae_svr))"
   ]
  },
  {
   "cell_type": "markdown",
   "metadata": {},
   "source": [
    "### Pickling the model"
   ]
  },
  {
   "cell_type": "code",
   "execution_count": null,
   "metadata": {},
   "outputs": [],
   "source": [
    "import pickle"
   ]
  },
  {
   "cell_type": "code",
   "execution_count": null,
   "metadata": {},
   "outputs": [],
   "source": [
    "# Saving the file to current directory\n",
    "with open('model_pickle_svr', 'wb') as f:\n",
    "    pickle.dump(clf,f)\n",
    "    "
   ]
  },
  {
   "cell_type": "code",
   "execution_count": null,
   "metadata": {},
   "outputs": [],
   "source": [
    "# Loading the pickle file \n",
    "with open('model_pickle_svr','rb') as f:\n",
    "    mp = pickle.load(f)\n",
    "    "
   ]
  },
  {
   "cell_type": "code",
   "execution_count": null,
   "metadata": {},
   "outputs": [],
   "source": [
    "# Testing\n",
    "predict_svr_lin_mp = mp.predict(X.iloc[-n:])\n",
    "predict_svr_lin_mp = pd.DataFrame(predict_svr_lin_mp)\n",
    "predict_svr_lin_mp.index = ret.iloc[-n:].index\n",
    "\n",
    "rmse_svr = np.sqrt(mse(realized_vol.iloc[-n:] / 100, predict_svr_lin_mp / 100))\n",
    "print('The RMSE value of SVR with Linear Kernel is {:.6f}'.format(rmse_svr))\n",
    "mse_svr = mse(realized_vol.iloc[-n:] / 100, predict_svr_lin_mp / 100)\n",
    "print('The MSE value of SVR with Linear Kernel is {:.7f}'.format(mse_svr))\n",
    "\n",
    "mae_svr = mae(realized_vol.iloc[-n:] / 100, predict_svr_lin_mp / 100)\n",
    "print('The MAE value of SVR with Linear Kernel is {:.6f}'.format(mae_svr))"
   ]
  },
  {
   "cell_type": "code",
   "execution_count": 9,
   "metadata": {},
   "outputs": [],
   "source": [
    "import tensorflow as tf\n",
    "from tensorflow import keras\n",
    "from tensorflow.keras import layers\n",
    "import pickle\n",
    "import numpy as np"
   ]
  },
  {
   "cell_type": "code",
   "execution_count": 10,
   "metadata": {},
   "outputs": [],
   "source": [
    "model = keras.Sequential(\n",
    "    [layers.Dense(256, activation=\"relu\"),\n",
    "    layers.Dense(128, activation=\"relu\"),\n",
    "    layers.Dense(1, activation=\"linear\"),])"
   ]
  },
  {
   "cell_type": "code",
   "execution_count": 11,
   "metadata": {},
   "outputs": [],
   "source": [
    "model.compile(loss='mse', optimizer='rmsprop')"
   ]
  },
  {
   "cell_type": "code",
   "execution_count": 12,
   "metadata": {},
   "outputs": [],
   "source": [
    "epochs_trial = np.arange(100, 400, 4)\n",
    "batch_trial = np.arange(100, 400, 4)"
   ]
  },
  {
   "cell_type": "code",
   "execution_count": 18,
   "metadata": {},
   "outputs": [
    {
     "name": "stdout",
     "output_type": "stream",
     "text": [
      "10/10 [==============================] - 0s 4ms/step\n",
      "DL_RMSE_1:0.005992\n",
      "DL_MSE_1:0.000036\n",
      "DL_MAE_1:0.004696\n",
      "10/10 [==============================] - 0s 2ms/step\n",
      "DL_RMSE_2:0.003320\n",
      "DL_MSE_2:0.000011\n",
      "DL_MAE_2:0.002632\n",
      "10/10 [==============================] - 0s 2ms/step\n",
      "DL_RMSE_3:0.004278\n",
      "DL_MSE_3:0.000018\n",
      "DL_MAE_3:0.003351\n",
      "10/10 [==============================] - 0s 3ms/step\n",
      "DL_RMSE_4:0.004512\n",
      "DL_MSE_4:0.000020\n",
      "DL_MAE_4:0.003212\n"
     ]
    }
   ],
   "source": [
    "DL_pred = []\n",
    "DL_RMSE = []\n",
    "DL_MSE = []\n",
    "DL_MAE = []\n",
    "for i, j, k in zip(range(4), epochs_trial, batch_trial):\n",
    "    model.fit(X.iloc[:-n].values, realized_vol.iloc[1:-(n-1)].values.reshape(-1,),\n",
    "              batch_size=k, epochs=j, verbose=False)\n",
    "    DL_predict = model.predict(np.asarray(X.iloc[-n:]))\n",
    "    DL_RMSE.append(np.sqrt(mse(realized_vol.iloc[-n:] / 100, DL_predict.flatten() / 100)))\n",
    "    DL_MSE.append(mse(realized_vol.iloc[-n:] / 100, DL_predict.flatten() / 100))\n",
    "    DL_MAE.append(mae(realized_vol.iloc[-n:] / 100, DL_predict.flatten() / 100))\n",
    "    DL_pred.append(DL_predict)\n",
    "    print('DL_RMSE_{}:{:.6f}'.format(i+1, DL_RMSE[i]))     \n",
    "    print('DL_MSE_{}:{:.6f}'.format(i+1, DL_MSE[i]))    \n",
    "    print('DL_MAE_{}:{:.6f}'.format(i+1, DL_MAE[i]))    "
   ]
  },
  {
   "cell_type": "code",
   "execution_count": 19,
   "metadata": {},
   "outputs": [
    {
     "name": "stdout",
     "output_type": "stream",
     "text": [
      "INFO:tensorflow:Assets written to: ram://383a4d93-0a2f-4f00-86fa-7f4f42734553/assets\n"
     ]
    }
   ],
   "source": [
    "# Dumping model to disk\n",
    "with open('model_pickle_nn', 'wb') as file:\n",
    "    pickle.dump(model,file)\n",
    "    "
   ]
  },
  {
   "cell_type": "code",
   "execution_count": 20,
   "metadata": {},
   "outputs": [],
   "source": [
    "# Loading the pickled model\n",
    "with open('model_pickle_nn','rb') as file:\n",
    "    mpn = pickle.load(file)"
   ]
  },
  {
   "cell_type": "code",
   "execution_count": 21,
   "metadata": {},
   "outputs": [
    {
     "name": "stdout",
     "output_type": "stream",
     "text": [
      "10/10 [==============================] - 0s 2ms/step\n",
      "DL_RMSE_1:0.004512\n",
      "DL_MSE_1:0.000020\n",
      "DL_MAE_1:0.003212\n",
      "10/10 [==============================] - 0s 2ms/step\n",
      "DL_RMSE_2:0.004512\n",
      "DL_MSE_2:0.000020\n",
      "DL_MAE_2:0.003212\n",
      "10/10 [==============================] - 0s 3ms/step\n",
      "DL_RMSE_3:0.004512\n",
      "DL_MSE_3:0.000020\n",
      "DL_MAE_3:0.003212\n",
      "10/10 [==============================] - 0s 2ms/step\n",
      "DL_RMSE_4:0.004512\n",
      "DL_MSE_4:0.000020\n",
      "DL_MAE_4:0.003212\n"
     ]
    }
   ],
   "source": [
    "# Testing the pickled model\n",
    "\n",
    "DL_pred = []\n",
    "DL_RMSE = []\n",
    "DL_MSE = []\n",
    "DL_MAE = []\n",
    "\n",
    "for i, j, k in zip(range(4), epochs_trial, batch_trial):\n",
    "    DL_predict = mpn.predict(np.asarray(X.iloc[-n:]))\n",
    "    DL_RMSE.append(np.sqrt(mse(realized_vol.iloc[-n:] / 100, DL_predict.flatten() / 100)))\n",
    "    DL_MSE.append(mse(realized_vol.iloc[-n:] / 100, DL_predict.flatten() / 100))\n",
    "    DL_MAE.append(mae(realized_vol.iloc[-n:] / 100, DL_predict.flatten() / 100))\n",
    "    DL_pred.append(DL_predict)\n",
    "    print('DL_RMSE_{}:{:.6f}'.format(i+1, DL_RMSE[i]))     \n",
    "    print('DL_MSE_{}:{:.6f}'.format(i+1, DL_MSE[i]))    \n",
    "    print('DL_MAE_{}:{:.6f}'.format(i+1, DL_MAE[i]))    "
   ]
  },
  {
   "cell_type": "code",
   "execution_count": null,
   "metadata": {},
   "outputs": [],
   "source": []
  }
 ],
 "metadata": {
  "kernelspec": {
   "display_name": "Python 3",
   "language": "python",
   "name": "python3"
  },
  "language_info": {
   "codemirror_mode": {
    "name": "ipython",
    "version": 3
   },
   "file_extension": ".py",
   "mimetype": "text/x-python",
   "name": "python",
   "nbconvert_exporter": "python",
   "pygments_lexer": "ipython3",
   "version": "3.7.4"
  }
 },
 "nbformat": 4,
 "nbformat_minor": 5
}
